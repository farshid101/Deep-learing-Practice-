{
  "nbformat": 4,
  "nbformat_minor": 0,
  "metadata": {
    "colab": {
      "provenance": [],
      "gpuType": "T4",
      "authorship_tag": "ABX9TyPCgBpe5XB2PHKhopgbT+Nn",
      "include_colab_link": true
    },
    "kernelspec": {
      "name": "python3",
      "display_name": "Python 3"
    },
    "language_info": {
      "name": "python"
    },
    "accelerator": "GPU"
  },
  "cells": [
    {
      "cell_type": "markdown",
      "metadata": {
        "id": "view-in-github",
        "colab_type": "text"
      },
      "source": [
        "<a href=\"https://colab.research.google.com/github/farshid101/Deep-learning-Practice-/blob/main/DP_Practices_1.ipynb\" target=\"_parent\"><img src=\"https://colab.research.google.com/assets/colab-badge.svg\" alt=\"Open In Colab\"/></a>"
      ]
    },
    {
      "cell_type": "code",
      "execution_count": null,
      "metadata": {
        "id": "3YplDJTaNKy6"
      },
      "outputs": [],
      "source": [
        "import tensorflow as tf\n",
        "import numpy as np\n",
        "import pandas as pd"
      ]
    },
    {
      "cell_type": "code",
      "source": [
        "tf.__version__"
      ],
      "metadata": {
        "colab": {
          "base_uri": "https://localhost:8080/",
          "height": 36
        },
        "id": "UV9yz6S1NivS",
        "outputId": "c5f2fb8d-5f46-4625-8a52-82914f803e75"
      },
      "execution_count": null,
      "outputs": [
        {
          "output_type": "execute_result",
          "data": {
            "text/plain": [
              "'2.12.0'"
            ],
            "application/vnd.google.colaboratory.intrinsic+json": {
              "type": "string"
            }
          },
          "metadata": {},
          "execution_count": 22
        }
      ]
    },
    {
      "cell_type": "code",
      "source": [
        "x=np.arange(1,50,2)\n",
        "y=x+10\n",
        "x , y"
      ],
      "metadata": {
        "colab": {
          "base_uri": "https://localhost:8080/"
        },
        "id": "hCPxLi9hOH5t",
        "outputId": "a4f37d13-962b-4163-c311-d2902f37ca87"
      },
      "execution_count": null,
      "outputs": [
        {
          "output_type": "execute_result",
          "data": {
            "text/plain": [
              "(array([ 1,  3,  5,  7,  9, 11, 13, 15, 17, 19, 21, 23, 25, 27, 29, 31, 33,\n",
              "        35, 37, 39, 41, 43, 45, 47, 49]),\n",
              " array([11, 13, 15, 17, 19, 21, 23, 25, 27, 29, 31, 33, 35, 37, 39, 41, 43,\n",
              "        45, 47, 49, 51, 53, 55, 57, 59]))"
            ]
          },
          "metadata": {},
          "execution_count": 23
        }
      ]
    },
    {
      "cell_type": "code",
      "source": [
        "df=np.array([x,y])\n",
        "df"
      ],
      "metadata": {
        "colab": {
          "base_uri": "https://localhost:8080/"
        },
        "id": "r2h9cdScO9XY",
        "outputId": "5030a7b1-f692-4215-d35b-03ff402ee7cc"
      },
      "execution_count": null,
      "outputs": [
        {
          "output_type": "execute_result",
          "data": {
            "text/plain": [
              "array([[ 1,  3,  5,  7,  9, 11, 13, 15, 17, 19, 21, 23, 25, 27, 29, 31,\n",
              "        33, 35, 37, 39, 41, 43, 45, 47, 49],\n",
              "       [11, 13, 15, 17, 19, 21, 23, 25, 27, 29, 31, 33, 35, 37, 39, 41,\n",
              "        43, 45, 47, 49, 51, 53, 55, 57, 59]])"
            ]
          },
          "metadata": {},
          "execution_count": 24
        }
      ]
    },
    {
      "cell_type": "code",
      "source": [
        "df.shape\n"
      ],
      "metadata": {
        "colab": {
          "base_uri": "https://localhost:8080/"
        },
        "id": "-VaxaWwJQciF",
        "outputId": "711e521d-1dab-4ba1-b361-1653770d259c"
      },
      "execution_count": null,
      "outputs": [
        {
          "output_type": "execute_result",
          "data": {
            "text/plain": [
              "(2, 25)"
            ]
          },
          "metadata": {},
          "execution_count": 25
        }
      ]
    },
    {
      "cell_type": "code",
      "source": [
        "tf.transpose(df)\n"
      ],
      "metadata": {
        "colab": {
          "base_uri": "https://localhost:8080/"
        },
        "id": "LVLcriGLQyDo",
        "outputId": "8e0f9219-3d10-4bff-abe7-d2efa9e23087"
      },
      "execution_count": null,
      "outputs": [
        {
          "output_type": "execute_result",
          "data": {
            "text/plain": [
              "<tf.Tensor: shape=(25, 2), dtype=int64, numpy=\n",
              "array([[ 1, 11],\n",
              "       [ 3, 13],\n",
              "       [ 5, 15],\n",
              "       [ 7, 17],\n",
              "       [ 9, 19],\n",
              "       [11, 21],\n",
              "       [13, 23],\n",
              "       [15, 25],\n",
              "       [17, 27],\n",
              "       [19, 29],\n",
              "       [21, 31],\n",
              "       [23, 33],\n",
              "       [25, 35],\n",
              "       [27, 37],\n",
              "       [29, 39],\n",
              "       [31, 41],\n",
              "       [33, 43],\n",
              "       [35, 45],\n",
              "       [37, 47],\n",
              "       [39, 49],\n",
              "       [41, 51],\n",
              "       [43, 53],\n",
              "       [45, 55],\n",
              "       [47, 57],\n",
              "       [49, 59]])>"
            ]
          },
          "metadata": {},
          "execution_count": 26
        }
      ]
    },
    {
      "cell_type": "code",
      "source": [
        "df.shape"
      ],
      "metadata": {
        "colab": {
          "base_uri": "https://localhost:8080/"
        },
        "id": "Wm7qTJEHQ29u",
        "outputId": "53240ae4-7ef0-4f33-b359-c86ced426b3b"
      },
      "execution_count": null,
      "outputs": [
        {
          "output_type": "execute_result",
          "data": {
            "text/plain": [
              "(2, 25)"
            ]
          },
          "metadata": {},
          "execution_count": 27
        }
      ]
    },
    {
      "cell_type": "code",
      "source": [
        "df=tf.reshape(df ,shape=[25,2])\n",
        "df[:5]"
      ],
      "metadata": {
        "colab": {
          "base_uri": "https://localhost:8080/"
        },
        "id": "rmjtT2KtRWs8",
        "outputId": "1a9aa67e-1a3c-44f5-9df7-3b3e03d105d4"
      },
      "execution_count": null,
      "outputs": [
        {
          "output_type": "execute_result",
          "data": {
            "text/plain": [
              "<tf.Tensor: shape=(5, 2), dtype=int64, numpy=\n",
              "array([[ 1,  3],\n",
              "       [ 5,  7],\n",
              "       [ 9, 11],\n",
              "       [13, 15],\n",
              "       [17, 19]])>"
            ]
          },
          "metadata": {},
          "execution_count": 28
        }
      ]
    },
    {
      "cell_type": "code",
      "source": [
        "df=pd.DataFrame(df ,columns=[\"x\",\"y\"])\n",
        "df.head(4)"
      ],
      "metadata": {
        "colab": {
          "base_uri": "https://localhost:8080/",
          "height": 174
        },
        "id": "ES2UJTvrPT7m",
        "outputId": "202289d5-d4c6-4330-b028-568d4814ebcb"
      },
      "execution_count": null,
      "outputs": [
        {
          "output_type": "execute_result",
          "data": {
            "text/plain": [
              "    x   y\n",
              "0   1   3\n",
              "1   5   7\n",
              "2   9  11\n",
              "3  13  15"
            ],
            "text/html": [
              "\n",
              "  <div id=\"df-07ea259f-8790-4fb2-b59f-c2d5250de694\">\n",
              "    <div class=\"colab-df-container\">\n",
              "      <div>\n",
              "<style scoped>\n",
              "    .dataframe tbody tr th:only-of-type {\n",
              "        vertical-align: middle;\n",
              "    }\n",
              "\n",
              "    .dataframe tbody tr th {\n",
              "        vertical-align: top;\n",
              "    }\n",
              "\n",
              "    .dataframe thead th {\n",
              "        text-align: right;\n",
              "    }\n",
              "</style>\n",
              "<table border=\"1\" class=\"dataframe\">\n",
              "  <thead>\n",
              "    <tr style=\"text-align: right;\">\n",
              "      <th></th>\n",
              "      <th>x</th>\n",
              "      <th>y</th>\n",
              "    </tr>\n",
              "  </thead>\n",
              "  <tbody>\n",
              "    <tr>\n",
              "      <th>0</th>\n",
              "      <td>1</td>\n",
              "      <td>3</td>\n",
              "    </tr>\n",
              "    <tr>\n",
              "      <th>1</th>\n",
              "      <td>5</td>\n",
              "      <td>7</td>\n",
              "    </tr>\n",
              "    <tr>\n",
              "      <th>2</th>\n",
              "      <td>9</td>\n",
              "      <td>11</td>\n",
              "    </tr>\n",
              "    <tr>\n",
              "      <th>3</th>\n",
              "      <td>13</td>\n",
              "      <td>15</td>\n",
              "    </tr>\n",
              "  </tbody>\n",
              "</table>\n",
              "</div>\n",
              "      <button class=\"colab-df-convert\" onclick=\"convertToInteractive('df-07ea259f-8790-4fb2-b59f-c2d5250de694')\"\n",
              "              title=\"Convert this dataframe to an interactive table.\"\n",
              "              style=\"display:none;\">\n",
              "        \n",
              "  <svg xmlns=\"http://www.w3.org/2000/svg\" height=\"24px\"viewBox=\"0 0 24 24\"\n",
              "       width=\"24px\">\n",
              "    <path d=\"M0 0h24v24H0V0z\" fill=\"none\"/>\n",
              "    <path d=\"M18.56 5.44l.94 2.06.94-2.06 2.06-.94-2.06-.94-.94-2.06-.94 2.06-2.06.94zm-11 1L8.5 8.5l.94-2.06 2.06-.94-2.06-.94L8.5 2.5l-.94 2.06-2.06.94zm10 10l.94 2.06.94-2.06 2.06-.94-2.06-.94-.94-2.06-.94 2.06-2.06.94z\"/><path d=\"M17.41 7.96l-1.37-1.37c-.4-.4-.92-.59-1.43-.59-.52 0-1.04.2-1.43.59L10.3 9.45l-7.72 7.72c-.78.78-.78 2.05 0 2.83L4 21.41c.39.39.9.59 1.41.59.51 0 1.02-.2 1.41-.59l7.78-7.78 2.81-2.81c.8-.78.8-2.07 0-2.86zM5.41 20L4 18.59l7.72-7.72 1.47 1.35L5.41 20z\"/>\n",
              "  </svg>\n",
              "      </button>\n",
              "      \n",
              "  <style>\n",
              "    .colab-df-container {\n",
              "      display:flex;\n",
              "      flex-wrap:wrap;\n",
              "      gap: 12px;\n",
              "    }\n",
              "\n",
              "    .colab-df-convert {\n",
              "      background-color: #E8F0FE;\n",
              "      border: none;\n",
              "      border-radius: 50%;\n",
              "      cursor: pointer;\n",
              "      display: none;\n",
              "      fill: #1967D2;\n",
              "      height: 32px;\n",
              "      padding: 0 0 0 0;\n",
              "      width: 32px;\n",
              "    }\n",
              "\n",
              "    .colab-df-convert:hover {\n",
              "      background-color: #E2EBFA;\n",
              "      box-shadow: 0px 1px 2px rgba(60, 64, 67, 0.3), 0px 1px 3px 1px rgba(60, 64, 67, 0.15);\n",
              "      fill: #174EA6;\n",
              "    }\n",
              "\n",
              "    [theme=dark] .colab-df-convert {\n",
              "      background-color: #3B4455;\n",
              "      fill: #D2E3FC;\n",
              "    }\n",
              "\n",
              "    [theme=dark] .colab-df-convert:hover {\n",
              "      background-color: #434B5C;\n",
              "      box-shadow: 0px 1px 3px 1px rgba(0, 0, 0, 0.15);\n",
              "      filter: drop-shadow(0px 1px 2px rgba(0, 0, 0, 0.3));\n",
              "      fill: #FFFFFF;\n",
              "    }\n",
              "  </style>\n",
              "\n",
              "      <script>\n",
              "        const buttonEl =\n",
              "          document.querySelector('#df-07ea259f-8790-4fb2-b59f-c2d5250de694 button.colab-df-convert');\n",
              "        buttonEl.style.display =\n",
              "          google.colab.kernel.accessAllowed ? 'block' : 'none';\n",
              "\n",
              "        async function convertToInteractive(key) {\n",
              "          const element = document.querySelector('#df-07ea259f-8790-4fb2-b59f-c2d5250de694');\n",
              "          const dataTable =\n",
              "            await google.colab.kernel.invokeFunction('convertToInteractive',\n",
              "                                                     [key], {});\n",
              "          if (!dataTable) return;\n",
              "\n",
              "          const docLinkHtml = 'Like what you see? Visit the ' +\n",
              "            '<a target=\"_blank\" href=https://colab.research.google.com/notebooks/data_table.ipynb>data table notebook</a>'\n",
              "            + ' to learn more about interactive tables.';\n",
              "          element.innerHTML = '';\n",
              "          dataTable['output_type'] = 'display_data';\n",
              "          await google.colab.output.renderOutput(dataTable, element);\n",
              "          const docLink = document.createElement('div');\n",
              "          docLink.innerHTML = docLinkHtml;\n",
              "          element.appendChild(docLink);\n",
              "        }\n",
              "      </script>\n",
              "    </div>\n",
              "  </div>\n",
              "  "
            ]
          },
          "metadata": {},
          "execution_count": 29
        }
      ]
    },
    {
      "cell_type": "code",
      "source": [
        "from sklearn.model_selection import train_test_split"
      ],
      "metadata": {
        "id": "ahSXTghKQYn9"
      },
      "execution_count": null,
      "outputs": []
    },
    {
      "cell_type": "code",
      "source": [
        "x_train , x_test ,y_train , y_test = train_test_split(df[\"x\"],df[\"y\"],test_size=0.2)\n"
      ],
      "metadata": {
        "id": "9ESOqeX1V1Cg"
      },
      "execution_count": null,
      "outputs": []
    },
    {
      "cell_type": "code",
      "source": [
        "import matplotlib.pyplot as plt"
      ],
      "metadata": {
        "id": "ESKaFCdWUa8h"
      },
      "execution_count": null,
      "outputs": []
    },
    {
      "cell_type": "code",
      "source": [
        "plt.scatter(x_train , y_train)"
      ],
      "metadata": {
        "colab": {
          "base_uri": "https://localhost:8080/",
          "height": 448
        },
        "id": "s9mrPWnJY1ZB",
        "outputId": "dedd0063-53a1-46f9-8eb9-0b8ed5b86ed0"
      },
      "execution_count": null,
      "outputs": [
        {
          "output_type": "execute_result",
          "data": {
            "text/plain": [
              "<matplotlib.collections.PathCollection at 0x7f5aa61c6dd0>"
            ]
          },
          "metadata": {},
          "execution_count": 33
        },
        {
          "output_type": "display_data",
          "data": {
            "text/plain": [
              "<Figure size 640x480 with 1 Axes>"
            ],
            "image/png": "[encoded data removed]"
          },
          "metadata": {}
        }
      ]
    },
    {
      "cell_type": "code",
      "source": [],
      "metadata": {
        "id": "xgDk1Vv_Y8_h"
      },
      "execution_count": null,
      "outputs": []
    },
    {
      "cell_type": "markdown",
      "source": [
        "## Using Neural network"
      ],
      "metadata": {
        "id": "B6vlkHzIZCnW"
      }
    },
    {
      "cell_type": "code",
      "source": [
        "tf.random.set_seed(43)\n",
        "\n",
        "model=tf.keras.Sequential([\n",
        "    tf.keras.layers.Dense(1)\n",
        "])\n",
        "\n",
        "\n",
        "\n",
        "\n",
        "model.compile(\n",
        "    loss=tf.keras.losses.MeanAbsoluteError(),\n",
        "    optimizer=tf.keras.optimizers.SGD(),\n",
        "    metrics=[\"mae\"]\n",
        ")\n",
        "\n",
        "\n",
        "model.fit(x_train ,y_train  ,epochs=5 )"
      ],
      "metadata": {
        "colab": {
          "base_uri": "https://localhost:8080/"
        },
        "id": "qdE9tZoPZLgy",
        "outputId": "6e534358-fec1-47ed-b278-b19b18afe4d4"
      },
      "execution_count": null,
      "outputs": [
        {
          "output_type": "stream",
          "name": "stdout",
          "text": [
            "Epoch 1/5\n",
            "1/1 [==============================] - 4s 4s/step - loss: 28.8294 - mae: 28.8294\n",
            "Epoch 2/5\n",
            "1/1 [==============================] - 0s 9ms/step - loss: 20.9029 - mae: 20.9029\n",
            "Epoch 3/5\n",
            "1/1 [==============================] - 0s 10ms/step - loss: 15.2779 - mae: 15.2779\n",
            "Epoch 4/5\n",
            "1/1 [==============================] - 0s 9ms/step - loss: 9.6529 - mae: 9.6529\n",
            "Epoch 5/5\n",
            "1/1 [==============================] - 0s 9ms/step - loss: 4.0279 - mae: 4.0279\n"
          ]
        },
        {
          "output_type": "execute_result",
          "data": {
            "text/plain": [
              "<keras.callbacks.History at 0x7f5aa616ceb0>"
            ]
          },
          "metadata": {},
          "execution_count": 35
        }
      ]
    },
    {
      "cell_type": "code",
      "source": [
        "y_pred=model.predict(x_test)\n",
        "y_pred"
      ],
      "metadata": {
        "colab": {
          "base_uri": "https://localhost:8080/"
        },
        "id": "jsXU2T05cPVv",
        "outputId": "955541ad-3aa2-49b0-ca0d-c0f84efde26a"
      },
      "execution_count": null,
      "outputs": [
        {
          "output_type": "stream",
          "name": "stdout",
          "text": [
            "1/1 [==============================] - 0s 25ms/step\n"
          ]
        },
        {
          "output_type": "execute_result",
          "data": {
            "text/plain": [
              "array([[65.02285 ],\n",
              "       [35.599373],\n",
              "       [35.599373],\n",
              "       [50.311115],\n",
              "       [25.791546]], dtype=float32)"
            ]
          },
          "metadata": {},
          "execution_count": 37
        }
      ]
    },
    {
      "cell_type": "code",
      "source": [
        "\n",
        "def overview(x_train , Y_train , x_test ,y_test , y_pred ):\n",
        "  plt.figure(figsize=(10,6))\n",
        "  plt.scatter(x_train ,Y_train ,c='g' ,label = \"train\")\n",
        "  plt.scatter(x_test ,y_test,c='r' ,label = \"test\" )\n",
        "  plt.scatter(x_test ,y_pred ,c='b',label = \"pred \" )\n",
        "  plt.grid()\n",
        "  plt.legend()\n",
        "  plt.show ;\n"
      ],
      "metadata": {
        "id": "3kbqSRq4dIVO"
      },
      "execution_count": null,
      "outputs": []
    },
    {
      "cell_type": "code",
      "source": [
        "overview(x_train ,y_train , x_test ,y_test ,y_pred)"
      ],
      "metadata": {
        "colab": {
          "base_uri": "https://localhost:8080/",
          "height": 522
        },
        "id": "QPpry63DeQGf",
        "outputId": "0e7f9beb-e49f-47fc-91d5-7c8b4d871aaf"
      },
      "execution_count": null,
      "outputs": [
        {
          "output_type": "display_data",
          "data": {
            "text/plain": [
              "<Figure size 1000x600 with 1 Axes>"
            ],
            "image/png": "[encoded data removed]"
          },
          "metadata": {}
        }
      ]
    },
    {
      "cell_type": "markdown",
      "source": [
        "# Imporving model"
      ],
      "metadata": {
        "id": "_IvvgvIjgQ8I"
      }
    },
    {
      "cell_type": "code",
      "source": [
        "tf.random.set_seed(42)\n",
        "\n",
        "model_1 = tf.keras.Sequential([\n",
        "\n",
        "                               tf.keras.layers.Dense(1)\n",
        "\n",
        "])\n",
        "\n",
        "model_1.compile(\n",
        "\n",
        "                loss=tf.keras.losses.MeanAbsoluteError(),\n",
        "                optimizer=tf.keras.optimizers.SGD(),\n",
        "                metrics =[\"mae\"]\n",
        "\n",
        ")\n",
        "\n",
        "\n",
        "model_1.fit(x_train ,y_train ,epochs = 10 )\n"
      ],
      "metadata": {
        "colab": {
          "base_uri": "https://localhost:8080/"
        },
        "id": "PJQoXVBdgWJE",
        "outputId": "b916f372-09d1-4278-adca-52307d1382c2"
      },
      "execution_count": null,
      "outputs": [
        {
          "output_type": "stream",
          "name": "stdout",
          "text": [
            "Epoch 1/10\n",
            "1/1 [==============================] - 1s 522ms/step - loss: 20.7508 - mae: 20.7508\n",
            "Epoch 2/10\n",
            "1/1 [==============================] - 0s 11ms/step - loss: 15.1258 - mae: 15.1258\n",
            "Epoch 3/10\n",
            "1/1 [==============================] - 0s 14ms/step - loss: 9.5008 - mae: 9.5008\n",
            "Epoch 4/10\n",
            "1/1 [==============================] - 0s 13ms/step - loss: 3.8758 - mae: 3.8758\n",
            "Epoch 5/10\n",
            "1/1 [==============================] - 0s 13ms/step - loss: 6.9465 - mae: 6.9465\n",
            "Epoch 6/10\n",
            "1/1 [==============================] - 0s 10ms/step - loss: 4.8940 - mae: 4.8940\n",
            "Epoch 7/10\n",
            "1/1 [==============================] - 0s 10ms/step - loss: 5.7688 - mae: 5.7688\n",
            "Epoch 8/10\n",
            "1/1 [==============================] - 0s 13ms/step - loss: 5.6980 - mae: 5.6980\n",
            "Epoch 9/10\n",
            "1/1 [==============================] - 0s 11ms/step - loss: 4.8488 - mae: 4.8488\n",
            "Epoch 10/10\n",
            "1/1 [==============================] - 0s 14ms/step - loss: 6.5020 - mae: 6.5020\n"
          ]
        },
        {
          "output_type": "execute_result",
          "data": {
            "text/plain": [
              "<keras.callbacks.History at 0x7f5aad213bb0>"
            ]
          },
          "metadata": {},
          "execution_count": 49
        }
      ]
    },
    {
      "cell_type": "code",
      "source": [
        "y_pred_1 = model_1.predict(x_test)"
      ],
      "metadata": {
        "colab": {
          "base_uri": "https://localhost:8080/"
        },
        "id": "BUuZbYa4hd-G",
        "outputId": "9e2541cb-188d-4b8b-c86c-dcde08fd6f44"
      },
      "execution_count": null,
      "outputs": [
        {
          "output_type": "stream",
          "name": "stdout",
          "text": [
            "1/1 [==============================] - 0s 17ms/step\n"
          ]
        }
      ]
    },
    {
      "cell_type": "code",
      "source": [
        "overview(x_train ,y_train , x_test ,y_test ,y_pred=y_pred_1)"
      ],
      "metadata": {
        "colab": {
          "base_uri": "https://localhost:8080/",
          "height": 522
        },
        "id": "Ipnxb1s-hzNl",
        "outputId": "df069d8b-de2e-4910-e57e-39a701e62bd6"
      },
      "execution_count": null,
      "outputs": [
        {
          "output_type": "display_data",
          "data": {
            "text/plain": [
              "<Figure size 1000x600 with 1 Axes>"
            ],
            "image/png": "[encoded data removed]"
          },
          "metadata": {}
        }
      ]
    },
    {
      "cell_type": "code",
      "source": [
        "from scipy import optimize\n",
        "tf.random.set_seed(42)\n",
        "\n",
        "model_2 =tf.keras.Sequential([\n",
        "    tf.keras.layers.Dense(1),\n",
        "    tf.keras.layers.Dense(1)\n",
        "\n",
        "])\n",
        "\n",
        "\n",
        "model_2.compile(\n",
        "\n",
        "                loss=tf.keras.losses.MeanAbsoluteError(),\n",
        "                optimizer =tf.keras.optimizers.SGD() ,\n",
        "                metrics = ['mae']\n",
        "\n",
        "\n",
        ")\n",
        "\n",
        "\n",
        "\n",
        "model_2.fit(x_train , y_train ,epochs=10)"
      ],
      "metadata": {
        "colab": {
          "base_uri": "https://localhost:8080/"
        },
        "id": "m4twNa_Aj6_W",
        "outputId": "63259db4-9079-4137-9f93-c50f8dce3a43"
      },
      "execution_count": null,
      "outputs": [
        {
          "output_type": "stream",
          "name": "stdout",
          "text": [
            "Epoch 1/10\n",
            "1/1 [==============================] - 1s 703ms/step - loss: 42.6080 - mae: 42.6080\n",
            "Epoch 2/10\n",
            "1/1 [==============================] - 0s 33ms/step - loss: 20.6967 - mae: 20.6967\n",
            "Epoch 3/10\n",
            "1/1 [==============================] - 0s 20ms/step - loss: 6.1071 - mae: 6.1071\n",
            "Epoch 4/10\n",
            "1/1 [==============================] - 0s 25ms/step - loss: 18.7496 - mae: 18.7496\n",
            "Epoch 5/10\n",
            "1/1 [==============================] - 0s 15ms/step - loss: 11.9716 - mae: 11.9716\n",
            "Epoch 6/10\n",
            "1/1 [==============================] - 0s 19ms/step - loss: 7.7255 - mae: 7.7255\n",
            "Epoch 7/10\n",
            "1/1 [==============================] - 0s 18ms/step - loss: 16.2208 - mae: 16.2208\n",
            "Epoch 8/10\n",
            "1/1 [==============================] - 0s 18ms/step - loss: 4.3808 - mae: 4.3808\n",
            "Epoch 9/10\n",
            "1/1 [==============================] - 0s 14ms/step - loss: 18.3368 - mae: 18.3368\n",
            "Epoch 10/10\n",
            "1/1 [==============================] - 0s 10ms/step - loss: 10.0570 - mae: 10.0570\n"
          ]
        },
        {
          "output_type": "execute_result",
          "data": {
            "text/plain": [
              "<keras.callbacks.History at 0x7f5aad52e140>"
            ]
          },
          "metadata": {},
          "execution_count": 60
        }
      ]
    },
    {
      "cell_type": "code",
      "source": [
        "y_pred_2= model_2.predict(x_test)"
      ],
      "metadata": {
        "colab": {
          "base_uri": "https://localhost:8080/"
        },
        "id": "K0F2MxF3k6-U",
        "outputId": "9f4d5a71-9c51-4a08-81e5-f7b12d5cf36c"
      },
      "execution_count": null,
      "outputs": [
        {
          "output_type": "stream",
          "name": "stdout",
          "text": [
            "1/1 [==============================] - 0s 20ms/step\n"
          ]
        }
      ]
    },
    {
      "cell_type": "code",
      "source": [
        "overview(x_train ,y_train , x_test ,y_test ,y_pred=y_pred_2)"
      ],
      "metadata": {
        "colab": {
          "base_uri": "https://localhost:8080/",
          "height": 527
        },
        "id": "Hb9mxJ8tl3yU",
        "outputId": "667fcde4-25c6-46d1-abc8-9266a1d92056"
      },
      "execution_count": null,
      "outputs": [
        {
          "output_type": "display_data",
          "data": {
            "text/plain": [
              "<Figure size 1000x600 with 1 Axes>"
            ],
            "image/png": "[encoded data removed]"
          },
          "metadata": {}
        }
      ]
    },
    {
      "cell_type": "code",
      "source": [
        "from scipy import optimize\n",
        "tf.random.set_seed(42)\n",
        "\n",
        "model_3 =tf.keras.Sequential([\n",
        "    tf.keras.layers.Dense(1),\n",
        "    tf.keras.layers.Dense(1)\n",
        "\n",
        "])\n",
        "\n",
        "\n",
        "model_3.compile(\n",
        "\n",
        "                loss=tf.keras.losses.MeanAbsoluteError(),\n",
        "                optimizer =tf.keras.optimizers.SGD() ,\n",
        "                metrics = ['mae']\n",
        "\n",
        "\n",
        ")\n",
        "\n",
        "\n",
        "\n",
        "model_3.fit(x_train , y_train ,epochs=20)"
      ],
      "metadata": {
        "colab": {
          "base_uri": "https://localhost:8080/"
        },
        "id": "61IlZDi_mVH2",
        "outputId": "b7dd5eca-079d-4a62-a840-dd585abf098d"
      },
      "execution_count": null,
      "outputs": [
        {
          "output_type": "stream",
          "name": "stdout",
          "text": [
            "Epoch 1/20\n",
            "1/1 [==============================] - 1s 778ms/step - loss: 27.2799 - mae: 27.2799\n",
            "Epoch 2/20\n",
            "1/1 [==============================] - 0s 14ms/step - loss: 26.3847 - mae: 26.3847\n",
            "Epoch 3/20\n",
            "1/1 [==============================] - 0s 13ms/step - loss: 24.9208 - mae: 24.9208\n",
            "Epoch 4/20\n",
            "1/1 [==============================] - 0s 13ms/step - loss: 22.5112 - mae: 22.5112\n",
            "Epoch 5/20\n",
            "1/1 [==============================] - 0s 15ms/step - loss: 19.1555 - mae: 19.1555\n",
            "Epoch 6/20\n",
            "1/1 [==============================] - 0s 14ms/step - loss: 14.7380 - mae: 14.7380\n",
            "Epoch 7/20\n",
            "1/1 [==============================] - 0s 21ms/step - loss: 7.9812 - mae: 7.9812\n",
            "Epoch 8/20\n",
            "1/1 [==============================] - 0s 16ms/step - loss: 7.6452 - mae: 7.6452\n",
            "Epoch 9/20\n",
            "1/1 [==============================] - 0s 15ms/step - loss: 12.0058 - mae: 12.0058\n",
            "Epoch 10/20\n",
            "1/1 [==============================] - 0s 14ms/step - loss: 3.8045 - mae: 3.8045\n",
            "Epoch 11/20\n",
            "1/1 [==============================] - 0s 15ms/step - loss: 15.2611 - mae: 15.2611\n",
            "Epoch 12/20\n",
            "1/1 [==============================] - 0s 16ms/step - loss: 8.9528 - mae: 8.9528\n",
            "Epoch 13/20\n",
            "1/1 [==============================] - 0s 15ms/step - loss: 5.8940 - mae: 5.8940\n",
            "Epoch 14/20\n",
            "1/1 [==============================] - 0s 15ms/step - loss: 12.4033 - mae: 12.4033\n",
            "Epoch 15/20\n",
            "1/1 [==============================] - 0s 15ms/step - loss: 4.4183 - mae: 4.4183\n",
            "Epoch 16/20\n",
            "1/1 [==============================] - 0s 11ms/step - loss: 14.1220 - mae: 14.1220\n",
            "Epoch 17/20\n",
            "1/1 [==============================] - 0s 17ms/step - loss: 9.4305 - mae: 9.4305\n",
            "Epoch 18/20\n",
            "1/1 [==============================] - 0s 19ms/step - loss: 5.0466 - mae: 5.0466\n",
            "Epoch 19/20\n",
            "1/1 [==============================] - 0s 22ms/step - loss: 12.7895 - mae: 12.7895\n",
            "Epoch 20/20\n",
            "1/1 [==============================] - 0s 14ms/step - loss: 5.0147 - mae: 5.0147\n"
          ]
        },
        {
          "output_type": "execute_result",
          "data": {
            "text/plain": [
              "<keras.callbacks.History at 0x7f5aad210a90>"
            ]
          },
          "metadata": {},
          "execution_count": 65
        }
      ]
    },
    {
      "cell_type": "code",
      "source": [
        "y_pred_3= model_3.predict(x_test)\n",
        "overview(x_train ,y_train , x_test ,y_test ,y_pred=y_pred_3)"
      ],
      "metadata": {
        "colab": {
          "base_uri": "https://localhost:8080/",
          "height": 543
        },
        "id": "Kc8uV4qNmac9",
        "outputId": "4bc94918-1c4a-4d8c-df61-807812c60ccf"
      },
      "execution_count": null,
      "outputs": [
        {
          "output_type": "stream",
          "name": "stdout",
          "text": [
            "1/1 [==============================] - 0s 45ms/step\n"
          ]
        },
        {
          "output_type": "display_data",
          "data": {
            "text/plain": [
              "<Figure size 1000x600 with 1 Axes>"
            ],
            "image/png": "[encoded data removed]"
          },
          "metadata": {}
        }
      ]
    },
    {
      "cell_type": "code",
      "source": [
        "from scipy import optimize\n",
        "tf.random.set_seed(42)\n",
        "\n",
        "model_4 =tf.keras.Sequential([\n",
        "    tf.keras.layers.Dense(4),\n",
        "    tf.keras.layers.Dense(4),\n",
        "       tf.keras.layers.Dense(1)\n",
        "])\n",
        "\n",
        "\n",
        "model_4.compile(\n",
        "\n",
        "                loss=tf.keras.losses.MeanAbsoluteError(),\n",
        "                optimizer =tf.keras.optimizers.SGD() ,\n",
        "                metrics = ['mae']\n",
        "\n",
        "\n",
        ")\n",
        "\n",
        "\n",
        "\n",
        "model_4.fit(x_train , y_train ,epochs=20)"
      ],
      "metadata": {
        "colab": {
          "base_uri": "https://localhost:8080/"
        },
        "id": "ZXAV6wWrmiKd",
        "outputId": "d0813d0c-7c50-4463-fdde-d4f37a61cf95"
      },
      "execution_count": null,
      "outputs": [
        {
          "output_type": "stream",
          "name": "stdout",
          "text": [
            "Epoch 1/20\n",
            "1/1 [==============================] - 1s 720ms/step - loss: 14.3766 - mae: 14.3766\n",
            "Epoch 2/20\n",
            "1/1 [==============================] - 0s 11ms/step - loss: 79.5804 - mae: 79.5804\n",
            "Epoch 3/20\n",
            "1/1 [==============================] - 0s 10ms/step - loss: 34.7076 - mae: 34.7076\n",
            "Epoch 4/20\n",
            "1/1 [==============================] - 0s 10ms/step - loss: 9.9221 - mae: 9.9221\n",
            "Epoch 5/20\n",
            "1/1 [==============================] - 0s 9ms/step - loss: 24.3293 - mae: 24.3293\n",
            "Epoch 6/20\n",
            "1/1 [==============================] - 0s 8ms/step - loss: 21.7410 - mae: 21.7410\n",
            "Epoch 7/20\n",
            "1/1 [==============================] - 0s 9ms/step - loss: 12.1285 - mae: 12.1285\n",
            "Epoch 8/20\n",
            "1/1 [==============================] - 0s 9ms/step - loss: 11.2460 - mae: 11.2460\n",
            "Epoch 9/20\n",
            "1/1 [==============================] - 0s 9ms/step - loss: 20.4282 - mae: 20.4282\n",
            "Epoch 10/20\n",
            "1/1 [==============================] - 0s 9ms/step - loss: 12.8598 - mae: 12.8598\n",
            "Epoch 11/20\n",
            "1/1 [==============================] - 0s 9ms/step - loss: 7.0228 - mae: 7.0228\n",
            "Epoch 12/20\n",
            "1/1 [==============================] - 0s 9ms/step - loss: 20.0370 - mae: 20.0370\n",
            "Epoch 13/20\n",
            "1/1 [==============================] - 0s 8ms/step - loss: 13.3471 - mae: 13.3471\n",
            "Epoch 14/20\n",
            "1/1 [==============================] - 0s 9ms/step - loss: 4.7406 - mae: 4.7406\n",
            "Epoch 15/20\n",
            "1/1 [==============================] - 0s 9ms/step - loss: 19.4420 - mae: 19.4420\n",
            "Epoch 16/20\n",
            "1/1 [==============================] - 0s 9ms/step - loss: 12.8031 - mae: 12.8031\n",
            "Epoch 17/20\n",
            "1/1 [==============================] - 0s 8ms/step - loss: 5.4006 - mae: 5.4006\n",
            "Epoch 18/20\n",
            "1/1 [==============================] - 0s 9ms/step - loss: 18.9709 - mae: 18.9709\n",
            "Epoch 19/20\n",
            "1/1 [==============================] - 0s 9ms/step - loss: 12.2788 - mae: 12.2788\n",
            "Epoch 20/20\n",
            "1/1 [==============================] - 0s 13ms/step - loss: 6.1705 - mae: 6.1705\n"
          ]
        },
        {
          "output_type": "execute_result",
          "data": {
            "text/plain": [
              "<keras.callbacks.History at 0x7f5aad0838b0>"
            ]
          },
          "metadata": {},
          "execution_count": 67
        }
      ]
    },
    {
      "cell_type": "code",
      "source": [
        "y_pred_4= model_4.predict(x_test)\n",
        "overview(x_train ,y_train , x_test ,y_test ,y_pred=y_pred_4)"
      ],
      "metadata": {
        "colab": {
          "base_uri": "https://localhost:8080/",
          "height": 578
        },
        "id": "PtzaXNK-nIj0",
        "outputId": "82cf0508-8c38-4319-e5ad-dbd3d78ffc2c"
      },
      "execution_count": null,
      "outputs": [
        {
          "output_type": "stream",
          "name": "stderr",
          "text": [
            "WARNING:tensorflow:5 out of the last 10 calls to <function Model.make_predict_function.<locals>.predict_function at 0x7f5a985b1360> triggered tf.function retracing. Tracing is expensive and the excessive number of tracings could be due to (1) creating @tf.function repeatedly in a loop, (2) passing tensors with different shapes, (3) passing Python objects instead of tensors. For (1), please define your @tf.function outside of the loop. For (2), @tf.function has reduce_retracing=True option that can avoid unnecessary retracing. For (3), please refer to https://www.tensorflow.org/guide/function#controlling_retracing and https://www.tensorflow.org/api_docs/python/tf/function for  more details.\n"
          ]
        },
        {
          "output_type": "stream",
          "name": "stdout",
          "text": [
            "1/1 [==============================] - 0s 48ms/step\n"
          ]
        },
        {
          "output_type": "display_data",
          "data": {
            "text/plain": [
              "<Figure size 1000x600 with 1 Axes>"
            ],
            "image/png": "[encoded data removed]"
          },
          "metadata": {}
        }
      ]
    },
    {
      "cell_type": "markdown",
      "source": [
        "## last model test"
      ],
      "metadata": {
        "id": "R3CwqS39nimb"
      }
    },
    {
      "cell_type": "code",
      "source": [
        "tf.random.set_seed(42)\n",
        "\n",
        "model_5 = tf.keras.Sequential([\n",
        "\n",
        "                               tf.keras.layers.Dense(1)\n",
        "\n",
        "])\n",
        "\n",
        "model_5.compile(\n",
        "\n",
        "                loss=tf.keras.losses.MeanAbsoluteError(),\n",
        "                optimizer=tf.keras.optimizers.SGD(),\n",
        "                metrics =[\"mae\"]\n",
        "\n",
        ")\n",
        "\n",
        "\n",
        "model_5.fit(x_train ,y_train , epochs=70, verbose=0 )"
      ],
      "metadata": {
        "colab": {
          "base_uri": "https://localhost:8080/"
        },
        "id": "uXrPOVSvnhaW",
        "outputId": "aacc288f-87e4-4680-834d-a41fbcb6ad10"
      },
      "execution_count": null,
      "outputs": [
        {
          "output_type": "execute_result",
          "data": {
            "text/plain": [
              "<keras.callbacks.History at 0x7f5aad621990>"
            ]
          },
          "metadata": {},
          "execution_count": 111
        }
      ]
    },
    {
      "cell_type": "code",
      "source": [
        "y_pred_5= tf.round(model_5.predict(x_test))\n",
        "overview(x_train ,y_train , x_test ,y_test ,y_pred=y_pred_5)"
      ],
      "metadata": {
        "colab": {
          "base_uri": "https://localhost:8080/",
          "height": 540
        },
        "id": "fmPA2yT4nwwe",
        "outputId": "59467594-e43d-41a6-d701-06adb5a73a3a"
      },
      "execution_count": null,
      "outputs": [
        {
          "output_type": "stream",
          "name": "stdout",
          "text": [
            "1/1 [==============================] - 0s 20ms/step\n"
          ]
        },
        {
          "output_type": "display_data",
          "data": {
            "text/plain": [
              "<Figure size 1000x600 with 1 Axes>"
            ],
            "image/png": "[encoded data removed]"
          },
          "metadata": {}
        }
      ]
    },
    {
      "cell_type": "code",
      "source": [
        "x,y"
      ],
      "metadata": {
        "colab": {
          "base_uri": "https://localhost:8080/"
        },
        "id": "Xn6vomownzMk",
        "outputId": "19863456-661c-49a2-8827-fd05f143de40"
      },
      "execution_count": null,
      "outputs": [
        {
          "output_type": "execute_result",
          "data": {
            "text/plain": [
              "(array([ 1,  3,  5,  7,  9, 11, 13, 15, 17, 19, 21, 23, 25, 27, 29, 31, 33,\n",
              "        35, 37, 39, 41, 43, 45, 47, 49]),\n",
              " array([11, 13, 15, 17, 19, 21, 23, 25, 27, 29, 31, 33, 35, 37, 39, 41, 43,\n",
              "        45, 47, 49, 51, 53, 55, 57, 59]))"
            ]
          },
          "metadata": {},
          "execution_count": 113
        }
      ]
    },
    {
      "cell_type": "code",
      "source": [
        "p=tf.round( model_5.predict(x_test) )\n",
        "p"
      ],
      "metadata": {
        "colab": {
          "base_uri": "https://localhost:8080/"
        },
        "id": "oCB6U6kCseiD",
        "outputId": "e98e822c-9e56-4535-e448-fc3fd8c7c813"
      },
      "execution_count": null,
      "outputs": [
        {
          "output_type": "stream",
          "name": "stdout",
          "text": [
            "1/1 [==============================] - 0s 20ms/step\n"
          ]
        },
        {
          "output_type": "execute_result",
          "data": {
            "text/plain": [
              "<tf.Tensor: shape=(5, 1), dtype=float32, numpy=\n",
              "array([[60.],\n",
              "       [33.],\n",
              "       [33.],\n",
              "       [47.],\n",
              "       [24.]], dtype=float32)>"
            ]
          },
          "metadata": {},
          "execution_count": 129
        }
      ]
    },
    {
      "cell_type": "code",
      "source": [
        "x_test ,p , y_test"
      ],
      "metadata": {
        "colab": {
          "base_uri": "https://localhost:8080/"
        },
        "id": "WE4NE0j3snl8",
        "outputId": "5475cece-de5f-4914-f59b-9a60a0ce4d81"
      },
      "execution_count": null,
      "outputs": [
        {
          "output_type": "execute_result",
          "data": {
            "text/plain": [
              "(23    53\n",
              " 7     29\n",
              " 17    29\n",
              " 10    41\n",
              " 5     21\n",
              " Name: x, dtype: int64,\n",
              " <tf.Tensor: shape=(5, 1), dtype=float32, numpy=\n",
              " array([[60.],\n",
              "        [33.],\n",
              "        [33.],\n",
              "        [47.],\n",
              "        [24.]], dtype=float32)>,\n",
              " 23    55\n",
              " 7     31\n",
              " 17    31\n",
              " 10    43\n",
              " 5     23\n",
              " Name: y, dtype: int64)"
            ]
          },
          "metadata": {},
          "execution_count": 131
        }
      ]
    },
    {
      "cell_type": "markdown",
      "source": [
        "# linear modle using"
      ],
      "metadata": {
        "id": "u3SRVz8xukDu"
      }
    },
    {
      "cell_type": "code",
      "source": [
        "x_train.shape"
      ],
      "metadata": {
        "colab": {
          "base_uri": "https://localhost:8080/"
        },
        "id": "ppWCjLOBu-Cx",
        "outputId": "50eb75bf-a611-4397-f02d-de13104c7857"
      },
      "execution_count": null,
      "outputs": [
        {
          "output_type": "execute_result",
          "data": {
            "text/plain": [
              "(20,)"
            ]
          },
          "metadata": {},
          "execution_count": 135
        }
      ]
    },
    {
      "cell_type": "code",
      "source": [
        "x_train = x_train.reshape(-1, 1)"
      ],
      "metadata": {
        "colab": {
          "base_uri": "https://localhost:8080/",
          "height": 295
        },
        "id": "nF3Jn-R9vCAI",
        "outputId": "7feb2b99-f104-4677-83a0-af45e2ec476b"
      },
      "execution_count": null,
      "outputs": [
        {
          "output_type": "error",
          "ename": "AttributeError",
          "evalue": "ignored",
          "traceback": [
            "\u001b[0;31m---------------------------------------------------------------------------\u001b[0m",
            "\u001b[0;31mAttributeError\u001b[0m                            Traceback (most recent call last)",
            "\u001b[0;32m<ipython-input-138-1b412d77d1c5>\u001b[0m in \u001b[0;36m<cell line: 1>\u001b[0;34m()\u001b[0m\n\u001b[0;32m----> 1\u001b[0;31m \u001b[0mx_train\u001b[0m \u001b[0;34m=\u001b[0m \u001b[0mx_train\u001b[0m\u001b[0;34m.\u001b[0m\u001b[0mreshape\u001b[0m\u001b[0;34m(\u001b[0m\u001b[0;34m-\u001b[0m\u001b[0;36m1\u001b[0m\u001b[0;34m,\u001b[0m \u001b[0;36m1\u001b[0m\u001b[0;34m)\u001b[0m\u001b[0;34m\u001b[0m\u001b[0;34m\u001b[0m\u001b[0m\n\u001b[0m",
            "\u001b[0;32m/usr/local/lib/python3.10/dist-packages/pandas/core/generic.py\u001b[0m in \u001b[0;36m__getattr__\u001b[0;34m(self, name)\u001b[0m\n\u001b[1;32m   5900\u001b[0m         ):\n\u001b[1;32m   5901\u001b[0m             \u001b[0;32mreturn\u001b[0m \u001b[0mself\u001b[0m\u001b[0;34m[\u001b[0m\u001b[0mname\u001b[0m\u001b[0;34m]\u001b[0m\u001b[0;34m\u001b[0m\u001b[0;34m\u001b[0m\u001b[0m\n\u001b[0;32m-> 5902\u001b[0;31m         \u001b[0;32mreturn\u001b[0m \u001b[0mobject\u001b[0m\u001b[0;34m.\u001b[0m\u001b[0m__getattribute__\u001b[0m\u001b[0;34m(\u001b[0m\u001b[0mself\u001b[0m\u001b[0;34m,\u001b[0m \u001b[0mname\u001b[0m\u001b[0;34m)\u001b[0m\u001b[0;34m\u001b[0m\u001b[0;34m\u001b[0m\u001b[0m\n\u001b[0m\u001b[1;32m   5903\u001b[0m \u001b[0;34m\u001b[0m\u001b[0m\n\u001b[1;32m   5904\u001b[0m     \u001b[0;32mdef\u001b[0m \u001b[0m__setattr__\u001b[0m\u001b[0;34m(\u001b[0m\u001b[0mself\u001b[0m\u001b[0;34m,\u001b[0m \u001b[0mname\u001b[0m\u001b[0;34m:\u001b[0m \u001b[0mstr\u001b[0m\u001b[0;34m,\u001b[0m \u001b[0mvalue\u001b[0m\u001b[0;34m)\u001b[0m \u001b[0;34m->\u001b[0m \u001b[0;32mNone\u001b[0m\u001b[0;34m:\u001b[0m\u001b[0;34m\u001b[0m\u001b[0;34m\u001b[0m\u001b[0m\n",
            "\u001b[0;31mAttributeError\u001b[0m: 'Series' object has no attribute 'reshape'"
          ]
        }
      ]
    },
    {
      "cell_type": "code",
      "source": [
        "from sklearn.linear_model import LinearRegression\n",
        "reg = LinearRegression().fit(x_train, y_train)"
      ],
      "metadata": {
        "colab": {
          "base_uri": "https://localhost:8080/",
          "height": 426
        },
        "id": "TtRXijOOtRhb",
        "outputId": "e9c08381-db4c-450c-e5af-6dea287d9438"
      },
      "execution_count": null,
      "outputs": [
        {
          "output_type": "error",
          "ename": "ValueError",
          "evalue": "ignored",
          "traceback": [
            "\u001b[0;31m---------------------------------------------------------------------------\u001b[0m",
            "\u001b[0;31mValueError\u001b[0m                                Traceback (most recent call last)",
            "\u001b[0;32m<ipython-input-139-365507f694b2>\u001b[0m in \u001b[0;36m<cell line: 2>\u001b[0;34m()\u001b[0m\n\u001b[1;32m      1\u001b[0m \u001b[0;32mfrom\u001b[0m \u001b[0msklearn\u001b[0m\u001b[0;34m.\u001b[0m\u001b[0mlinear_model\u001b[0m \u001b[0;32mimport\u001b[0m \u001b[0mLinearRegression\u001b[0m\u001b[0;34m\u001b[0m\u001b[0;34m\u001b[0m\u001b[0m\n\u001b[0;32m----> 2\u001b[0;31m \u001b[0mreg\u001b[0m \u001b[0;34m=\u001b[0m \u001b[0mLinearRegression\u001b[0m\u001b[0;34m(\u001b[0m\u001b[0;34m)\u001b[0m\u001b[0;34m.\u001b[0m\u001b[0mfit\u001b[0m\u001b[0;34m(\u001b[0m\u001b[0mx_train\u001b[0m\u001b[0;34m,\u001b[0m \u001b[0my_train\u001b[0m\u001b[0;34m)\u001b[0m\u001b[0;34m\u001b[0m\u001b[0;34m\u001b[0m\u001b[0m\n\u001b[0m",
            "\u001b[0;32m/usr/local/lib/python3.10/dist-packages/sklearn/linear_model/_base.py\u001b[0m in \u001b[0;36mfit\u001b[0;34m(self, X, y, sample_weight)\u001b[0m\n\u001b[1;32m    646\u001b[0m         \u001b[0maccept_sparse\u001b[0m \u001b[0;34m=\u001b[0m \u001b[0;32mFalse\u001b[0m \u001b[0;32mif\u001b[0m \u001b[0mself\u001b[0m\u001b[0;34m.\u001b[0m\u001b[0mpositive\u001b[0m \u001b[0;32melse\u001b[0m \u001b[0;34m[\u001b[0m\u001b[0;34m\"csr\"\u001b[0m\u001b[0;34m,\u001b[0m \u001b[0;34m\"csc\"\u001b[0m\u001b[0;34m,\u001b[0m \u001b[0;34m\"coo\"\u001b[0m\u001b[0;34m]\u001b[0m\u001b[0;34m\u001b[0m\u001b[0;34m\u001b[0m\u001b[0m\n\u001b[1;32m    647\u001b[0m \u001b[0;34m\u001b[0m\u001b[0m\n\u001b[0;32m--> 648\u001b[0;31m         X, y = self._validate_data(\n\u001b[0m\u001b[1;32m    649\u001b[0m             \u001b[0mX\u001b[0m\u001b[0;34m,\u001b[0m \u001b[0my\u001b[0m\u001b[0;34m,\u001b[0m \u001b[0maccept_sparse\u001b[0m\u001b[0;34m=\u001b[0m\u001b[0maccept_sparse\u001b[0m\u001b[0;34m,\u001b[0m \u001b[0my_numeric\u001b[0m\u001b[0;34m=\u001b[0m\u001b[0;32mTrue\u001b[0m\u001b[0;34m,\u001b[0m \u001b[0mmulti_output\u001b[0m\u001b[0;34m=\u001b[0m\u001b[0;32mTrue\u001b[0m\u001b[0;34m\u001b[0m\u001b[0;34m\u001b[0m\u001b[0m\n\u001b[1;32m    650\u001b[0m         )\n",
            "\u001b[0;32m/usr/local/lib/python3.10/dist-packages/sklearn/base.py\u001b[0m in \u001b[0;36m_validate_data\u001b[0;34m(self, X, y, reset, validate_separately, **check_params)\u001b[0m\n\u001b[1;32m    582\u001b[0m                 \u001b[0my\u001b[0m \u001b[0;34m=\u001b[0m \u001b[0mcheck_array\u001b[0m\u001b[0;34m(\u001b[0m\u001b[0my\u001b[0m\u001b[0;34m,\u001b[0m \u001b[0minput_name\u001b[0m\u001b[0;34m=\u001b[0m\u001b[0;34m\"y\"\u001b[0m\u001b[0;34m,\u001b[0m \u001b[0;34m**\u001b[0m\u001b[0mcheck_y_params\u001b[0m\u001b[0;34m)\u001b[0m\u001b[0;34m\u001b[0m\u001b[0;34m\u001b[0m\u001b[0m\n\u001b[1;32m    583\u001b[0m             \u001b[0;32melse\u001b[0m\u001b[0;34m:\u001b[0m\u001b[0;34m\u001b[0m\u001b[0;34m\u001b[0m\u001b[0m\n\u001b[0;32m--> 584\u001b[0;31m                 \u001b[0mX\u001b[0m\u001b[0;34m,\u001b[0m \u001b[0my\u001b[0m \u001b[0;34m=\u001b[0m \u001b[0mcheck_X_y\u001b[0m\u001b[0;34m(\u001b[0m\u001b[0mX\u001b[0m\u001b[0;34m,\u001b[0m \u001b[0my\u001b[0m\u001b[0;34m,\u001b[0m \u001b[0;34m**\u001b[0m\u001b[0mcheck_params\u001b[0m\u001b[0;34m)\u001b[0m\u001b[0;34m\u001b[0m\u001b[0;34m\u001b[0m\u001b[0m\n\u001b[0m\u001b[1;32m    585\u001b[0m             \u001b[0mout\u001b[0m \u001b[0;34m=\u001b[0m \u001b[0mX\u001b[0m\u001b[0;34m,\u001b[0m \u001b[0my\u001b[0m\u001b[0;34m\u001b[0m\u001b[0;34m\u001b[0m\u001b[0m\n\u001b[1;32m    586\u001b[0m \u001b[0;34m\u001b[0m\u001b[0m\n",
            "\u001b[0;32m/usr/local/lib/python3.10/dist-packages/sklearn/utils/validation.py\u001b[0m in \u001b[0;36mcheck_X_y\u001b[0;34m(X, y, accept_sparse, accept_large_sparse, dtype, order, copy, force_all_finite, ensure_2d, allow_nd, multi_output, ensure_min_samples, ensure_min_features, y_numeric, estimator)\u001b[0m\n\u001b[1;32m   1104\u001b[0m         )\n\u001b[1;32m   1105\u001b[0m \u001b[0;34m\u001b[0m\u001b[0m\n\u001b[0;32m-> 1106\u001b[0;31m     X = check_array(\n\u001b[0m\u001b[1;32m   1107\u001b[0m         \u001b[0mX\u001b[0m\u001b[0;34m,\u001b[0m\u001b[0;34m\u001b[0m\u001b[0;34m\u001b[0m\u001b[0m\n\u001b[1;32m   1108\u001b[0m         \u001b[0maccept_sparse\u001b[0m\u001b[0;34m=\u001b[0m\u001b[0maccept_sparse\u001b[0m\u001b[0;34m,\u001b[0m\u001b[0;34m\u001b[0m\u001b[0;34m\u001b[0m\u001b[0m\n",
            "\u001b[0;32m/usr/local/lib/python3.10/dist-packages/sklearn/utils/validation.py\u001b[0m in \u001b[0;36mcheck_array\u001b[0;34m(array, accept_sparse, accept_large_sparse, dtype, order, copy, force_all_finite, ensure_2d, allow_nd, ensure_min_samples, ensure_min_features, estimator, input_name)\u001b[0m\n\u001b[1;32m    900\u001b[0m             \u001b[0;31m# If input is 1D raise error\u001b[0m\u001b[0;34m\u001b[0m\u001b[0;34m\u001b[0m\u001b[0m\n\u001b[1;32m    901\u001b[0m             \u001b[0;32mif\u001b[0m \u001b[0marray\u001b[0m\u001b[0;34m.\u001b[0m\u001b[0mndim\u001b[0m \u001b[0;34m==\u001b[0m \u001b[0;36m1\u001b[0m\u001b[0;34m:\u001b[0m\u001b[0;34m\u001b[0m\u001b[0;34m\u001b[0m\u001b[0m\n\u001b[0;32m--> 902\u001b[0;31m                 raise ValueError(\n\u001b[0m\u001b[1;32m    903\u001b[0m                     \u001b[0;34m\"Expected 2D array, got 1D array instead:\\narray={}.\\n\"\u001b[0m\u001b[0;34m\u001b[0m\u001b[0;34m\u001b[0m\u001b[0m\n\u001b[1;32m    904\u001b[0m                     \u001b[0;34m\"Reshape your data either using array.reshape(-1, 1) if \"\u001b[0m\u001b[0;34m\u001b[0m\u001b[0;34m\u001b[0m\u001b[0m\n",
            "\u001b[0;31mValueError\u001b[0m: Expected 2D array, got 1D array instead:\narray=[45 21 17 25 13 49 37 57 41 33 25 37 13 49  9 33 17  1  5 45].\nReshape your data either using array.reshape(-1, 1) if your data has a single feature or array.reshape(1, -1) if it contains a single sample."
          ]
        }
      ]
    },
    {
      "cell_type": "code",
      "source": [],
      "metadata": {
        "id": "tRwLLv5wvg_0"
      },
      "execution_count": null,
      "outputs": []
    }
  ]
}